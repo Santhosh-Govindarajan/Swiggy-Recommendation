{
 "cells": [
  {
   "cell_type": "code",
   "execution_count": 1,
   "id": "6da08698",
   "metadata": {},
   "outputs": [],
   "source": [
    "import pandas as pd\n",
    "import numpy as np\n",
    "import seaborn as sns\n",
    "import matplotlib.pyplot as plt\n",
    "import pickle\n",
    "import joblib"
   ]
  },
  {
   "cell_type": "code",
   "execution_count": 2,
   "id": "09cf7b92",
   "metadata": {},
   "outputs": [
    {
     "data": {
      "text/html": [
       "<div>\n",
       "<style scoped>\n",
       "    .dataframe tbody tr th:only-of-type {\n",
       "        vertical-align: middle;\n",
       "    }\n",
       "\n",
       "    .dataframe tbody tr th {\n",
       "        vertical-align: top;\n",
       "    }\n",
       "\n",
       "    .dataframe thead th {\n",
       "        text-align: right;\n",
       "    }\n",
       "</style>\n",
       "<table border=\"1\" class=\"dataframe\">\n",
       "  <thead>\n",
       "    <tr style=\"text-align: right;\">\n",
       "      <th></th>\n",
       "      <th>id</th>\n",
       "      <th>name</th>\n",
       "      <th>city</th>\n",
       "      <th>rating</th>\n",
       "      <th>rating_count</th>\n",
       "      <th>cost</th>\n",
       "      <th>cuisine</th>\n",
       "      <th>lic_no</th>\n",
       "      <th>link</th>\n",
       "      <th>address</th>\n",
       "      <th>menu</th>\n",
       "    </tr>\n",
       "  </thead>\n",
       "  <tbody>\n",
       "    <tr>\n",
       "      <th>0</th>\n",
       "      <td>567335</td>\n",
       "      <td>AB FOODS POINT</td>\n",
       "      <td>Abohar</td>\n",
       "      <td>--</td>\n",
       "      <td>Too Few Ratings</td>\n",
       "      <td>₹ 200</td>\n",
       "      <td>Beverages,Pizzas</td>\n",
       "      <td>22122652000138</td>\n",
       "      <td>https://www.swiggy.com/restaurants/ab-foods-po...</td>\n",
       "      <td>AB FOODS POINT, NEAR RISHI NARANG DENTAL CLINI...</td>\n",
       "      <td>Menu/567335.json</td>\n",
       "    </tr>\n",
       "    <tr>\n",
       "      <th>1</th>\n",
       "      <td>531342</td>\n",
       "      <td>Janta Sweet House</td>\n",
       "      <td>Abohar</td>\n",
       "      <td>4.4</td>\n",
       "      <td>50+ ratings</td>\n",
       "      <td>₹ 200</td>\n",
       "      <td>Sweets,Bakery</td>\n",
       "      <td>12117201000112</td>\n",
       "      <td>https://www.swiggy.com/restaurants/janta-sweet...</td>\n",
       "      <td>Janta Sweet House, Bazar No.9, Circullar Road,...</td>\n",
       "      <td>Menu/531342.json</td>\n",
       "    </tr>\n",
       "    <tr>\n",
       "      <th>2</th>\n",
       "      <td>158203</td>\n",
       "      <td>theka coffee desi</td>\n",
       "      <td>Abohar</td>\n",
       "      <td>3.8</td>\n",
       "      <td>100+ ratings</td>\n",
       "      <td>₹ 100</td>\n",
       "      <td>Beverages</td>\n",
       "      <td>22121652000190</td>\n",
       "      <td>https://www.swiggy.com/restaurants/theka-coffe...</td>\n",
       "      <td>theka coffee desi, sahtiya sadan road city</td>\n",
       "      <td>Menu/158203.json</td>\n",
       "    </tr>\n",
       "    <tr>\n",
       "      <th>3</th>\n",
       "      <td>187912</td>\n",
       "      <td>Singh Hut</td>\n",
       "      <td>Abohar</td>\n",
       "      <td>3.7</td>\n",
       "      <td>20+ ratings</td>\n",
       "      <td>₹ 250</td>\n",
       "      <td>Fast Food,Indian</td>\n",
       "      <td>22119652000167</td>\n",
       "      <td>https://www.swiggy.com/restaurants/singh-hut-n...</td>\n",
       "      <td>Singh Hut, CIRCULAR ROAD NEAR NEHRU PARK ABOHAR</td>\n",
       "      <td>Menu/187912.json</td>\n",
       "    </tr>\n",
       "    <tr>\n",
       "      <th>4</th>\n",
       "      <td>543530</td>\n",
       "      <td>GRILL MASTERS</td>\n",
       "      <td>Abohar</td>\n",
       "      <td>--</td>\n",
       "      <td>Too Few Ratings</td>\n",
       "      <td>₹ 250</td>\n",
       "      <td>Italian-American,Fast Food</td>\n",
       "      <td>12122201000053</td>\n",
       "      <td>https://www.swiggy.com/restaurants/grill-maste...</td>\n",
       "      <td>GRILL MASTERS, ADA Heights, Abohar - Hanumanga...</td>\n",
       "      <td>Menu/543530.json</td>\n",
       "    </tr>\n",
       "  </tbody>\n",
       "</table>\n",
       "</div>"
      ],
      "text/plain": [
       "       id               name    city rating     rating_count   cost  \\\n",
       "0  567335     AB FOODS POINT  Abohar     --  Too Few Ratings  ₹ 200   \n",
       "1  531342  Janta Sweet House  Abohar    4.4      50+ ratings  ₹ 200   \n",
       "2  158203  theka coffee desi  Abohar    3.8     100+ ratings  ₹ 100   \n",
       "3  187912          Singh Hut  Abohar    3.7      20+ ratings  ₹ 250   \n",
       "4  543530      GRILL MASTERS  Abohar     --  Too Few Ratings  ₹ 250   \n",
       "\n",
       "                      cuisine          lic_no  \\\n",
       "0            Beverages,Pizzas  22122652000138   \n",
       "1               Sweets,Bakery  12117201000112   \n",
       "2                   Beverages  22121652000190   \n",
       "3            Fast Food,Indian  22119652000167   \n",
       "4  Italian-American,Fast Food  12122201000053   \n",
       "\n",
       "                                                link  \\\n",
       "0  https://www.swiggy.com/restaurants/ab-foods-po...   \n",
       "1  https://www.swiggy.com/restaurants/janta-sweet...   \n",
       "2  https://www.swiggy.com/restaurants/theka-coffe...   \n",
       "3  https://www.swiggy.com/restaurants/singh-hut-n...   \n",
       "4  https://www.swiggy.com/restaurants/grill-maste...   \n",
       "\n",
       "                                             address              menu  \n",
       "0  AB FOODS POINT, NEAR RISHI NARANG DENTAL CLINI...  Menu/567335.json  \n",
       "1  Janta Sweet House, Bazar No.9, Circullar Road,...  Menu/531342.json  \n",
       "2         theka coffee desi, sahtiya sadan road city  Menu/158203.json  \n",
       "3    Singh Hut, CIRCULAR ROAD NEAR NEHRU PARK ABOHAR  Menu/187912.json  \n",
       "4  GRILL MASTERS, ADA Heights, Abohar - Hanumanga...  Menu/543530.json  "
      ]
     },
     "execution_count": 2,
     "metadata": {},
     "output_type": "execute_result"
    }
   ],
   "source": [
    "df = pd.read_csv(r\"E:\\APythonSoftware_2025\\MP4\\swiggy.csv\")\n",
    "df.head()"
   ]
  },
  {
   "cell_type": "code",
   "execution_count": 3,
   "id": "7fd56b79",
   "metadata": {},
   "outputs": [],
   "source": [
    "df[\"rating\"] = df[\"rating\"].replace(\"--\",np.nan)\n",
    "df['rating'] = pd.to_numeric(df['rating'], errors='coerce')"
   ]
  },
  {
   "cell_type": "code",
   "execution_count": 4,
   "id": "5f59dc1b",
   "metadata": {},
   "outputs": [],
   "source": [
    "df.dropna(inplace=True)"
   ]
  },
  {
   "cell_type": "code",
   "execution_count": 5,
   "id": "1ab2daaf",
   "metadata": {},
   "outputs": [],
   "source": [
    "df.drop(df[df[\"cuisine\"] == \"8:15 To 11:30 Pm\"].index, inplace=True)"
   ]
  },
  {
   "cell_type": "code",
   "execution_count": 6,
   "id": "18b82c53",
   "metadata": {},
   "outputs": [
    {
     "data": {
      "text/plain": [
       "(61343, 11)"
      ]
     },
     "execution_count": 6,
     "metadata": {},
     "output_type": "execute_result"
    }
   ],
   "source": [
    "df.shape"
   ]
  },
  {
   "cell_type": "code",
   "execution_count": 7,
   "id": "e7457abd",
   "metadata": {},
   "outputs": [],
   "source": [
    "df[\"rating_count\"] = df[\"rating_count\"].replace('Too Few Ratings','12')\n",
    "\n",
    "df[\"rating_count\"] = df[\"rating_count\"].str.replace(\"+ ratings\",\"\",regex=False)\n",
    "\n",
    "df[\"rating_count\"] = df[\"rating_count\"].str.replace(\"K\",\"000\",regex=False)\n",
    "\n",
    "df[\"rating_count\"] = pd.to_numeric(df[\"rating_count\"], errors='coerce') #--> Converting the datatype"
   ]
  },
  {
   "cell_type": "code",
   "execution_count": 8,
   "id": "ad1e9822",
   "metadata": {},
   "outputs": [],
   "source": [
    "df.drop(df[df[\"rating_count\"] < 21 ].index, inplace=True)"
   ]
  },
  {
   "cell_type": "code",
   "execution_count": 9,
   "id": "a36356da",
   "metadata": {},
   "outputs": [
    {
     "data": {
      "text/plain": [
       "(39739, 11)"
      ]
     },
     "execution_count": 9,
     "metadata": {},
     "output_type": "execute_result"
    }
   ],
   "source": [
    "df.shape"
   ]
  },
  {
   "cell_type": "code",
   "execution_count": 10,
   "id": "2e7d5f27",
   "metadata": {},
   "outputs": [
    {
     "data": {
      "text/plain": [
       "rating_count\n",
       "100      20514\n",
       "50       11985\n",
       "500       4390\n",
       "1000      2737\n",
       "5000        98\n",
       "10000       15\n",
       "Name: count, dtype: int64"
      ]
     },
     "execution_count": 10,
     "metadata": {},
     "output_type": "execute_result"
    }
   ],
   "source": [
    "df['rating_count'].value_counts()"
   ]
  },
  {
   "cell_type": "code",
   "execution_count": 11,
   "id": "edee701d",
   "metadata": {},
   "outputs": [
    {
     "data": {
      "text/html": [
       "<div>\n",
       "<style scoped>\n",
       "    .dataframe tbody tr th:only-of-type {\n",
       "        vertical-align: middle;\n",
       "    }\n",
       "\n",
       "    .dataframe tbody tr th {\n",
       "        vertical-align: top;\n",
       "    }\n",
       "\n",
       "    .dataframe thead th {\n",
       "        text-align: right;\n",
       "    }\n",
       "</style>\n",
       "<table border=\"1\" class=\"dataframe\">\n",
       "  <thead>\n",
       "    <tr style=\"text-align: right;\">\n",
       "      <th></th>\n",
       "      <th>id</th>\n",
       "      <th>name</th>\n",
       "      <th>city</th>\n",
       "      <th>rating</th>\n",
       "      <th>rating_count</th>\n",
       "      <th>cost</th>\n",
       "      <th>cuisine</th>\n",
       "      <th>lic_no</th>\n",
       "      <th>link</th>\n",
       "      <th>address</th>\n",
       "      <th>menu</th>\n",
       "    </tr>\n",
       "  </thead>\n",
       "  <tbody>\n",
       "  </tbody>\n",
       "</table>\n",
       "</div>"
      ],
      "text/plain": [
       "Empty DataFrame\n",
       "Columns: [id, name, city, rating, rating_count, cost, cuisine, lic_no, link, address, menu]\n",
       "Index: []"
      ]
     },
     "execution_count": 11,
     "metadata": {},
     "output_type": "execute_result"
    }
   ],
   "source": [
    "df[df.duplicated()]"
   ]
  },
  {
   "cell_type": "code",
   "execution_count": 12,
   "id": "151695ce",
   "metadata": {},
   "outputs": [
    {
     "data": {
      "text/plain": [
       "id              0\n",
       "name            0\n",
       "city            0\n",
       "rating          0\n",
       "rating_count    0\n",
       "cost            0\n",
       "cuisine         0\n",
       "lic_no          0\n",
       "link            0\n",
       "address         0\n",
       "menu            0\n",
       "dtype: int64"
      ]
     },
     "execution_count": 12,
     "metadata": {},
     "output_type": "execute_result"
    }
   ],
   "source": [
    "df.isnull().sum()"
   ]
  },
  {
   "cell_type": "code",
   "execution_count": 13,
   "id": "34151a2e",
   "metadata": {},
   "outputs": [],
   "source": [
    "df.drop([\"id\",\"lic_no\",\"link\",\"menu\",\"address\"],axis=\"columns\",inplace=True)"
   ]
  },
  {
   "cell_type": "code",
   "execution_count": 14,
   "id": "34df8070",
   "metadata": {},
   "outputs": [
    {
     "name": "stdout",
     "output_type": "stream",
     "text": [
      "<class 'pandas.core.frame.DataFrame'>\n",
      "Index: 39739 entries, 1 to 148509\n",
      "Data columns (total 6 columns):\n",
      " #   Column        Non-Null Count  Dtype  \n",
      "---  ------        --------------  -----  \n",
      " 0   name          39739 non-null  object \n",
      " 1   city          39739 non-null  object \n",
      " 2   rating        39739 non-null  float64\n",
      " 3   rating_count  39739 non-null  int64  \n",
      " 4   cost          39739 non-null  object \n",
      " 5   cuisine       39739 non-null  object \n",
      "dtypes: float64(1), int64(1), object(4)\n",
      "memory usage: 2.1+ MB\n"
     ]
    }
   ],
   "source": [
    "df.info()"
   ]
  },
  {
   "cell_type": "code",
   "execution_count": 15,
   "id": "98da3ce7",
   "metadata": {},
   "outputs": [],
   "source": [
    "df.dropna(subset = [\"cost\"],inplace = True) #--> Removing the Null values\n",
    "\n",
    "df[\"cost\"] = df[\"cost\"].str.replace(\"₹\", \"\", regex=False)\n",
    "\n",
    "df[\"cost\"] = pd.to_numeric(df[\"cost\"], errors=\"coerce\") #--> Converting the datatype"
   ]
  },
  {
   "cell_type": "code",
   "execution_count": 16,
   "id": "0d24f03d",
   "metadata": {},
   "outputs": [
    {
     "name": "stdout",
     "output_type": "stream",
     "text": [
      "<class 'pandas.core.frame.DataFrame'>\n",
      "Index: 39739 entries, 1 to 148509\n",
      "Data columns (total 6 columns):\n",
      " #   Column        Non-Null Count  Dtype  \n",
      "---  ------        --------------  -----  \n",
      " 0   name          39739 non-null  object \n",
      " 1   city          39739 non-null  object \n",
      " 2   rating        39739 non-null  float64\n",
      " 3   rating_count  39739 non-null  int64  \n",
      " 4   cost          39739 non-null  int64  \n",
      " 5   cuisine       39739 non-null  object \n",
      "dtypes: float64(1), int64(2), object(3)\n",
      "memory usage: 2.1+ MB\n"
     ]
    }
   ],
   "source": [
    "df.info()"
   ]
  },
  {
   "cell_type": "code",
   "execution_count": 17,
   "id": "84223f78",
   "metadata": {},
   "outputs": [],
   "source": [
    "# Function to extract value after the last comma inside quotes\n",
    "def extract_city_name(city):\n",
    "    if pd.isna(city):\n",
    "        return city  # Skip NaNs\n",
    "    city = city.strip()\n",
    "\n",
    "    # Remove outer quotes if present\n",
    "    if (city.startswith('\"') and city.endswith('\"')) or (city.startswith(\"'\") and city.endswith(\"'\")):\n",
    "        city = city[1:-1]\n",
    "\n",
    "    # Extract part after the last comma, or return as is\n",
    "    if ',' in city:\n",
    "        return city.split(',')[-1].strip()\n",
    "    else:\n",
    "        return city.strip()\n"
   ]
  },
  {
   "cell_type": "code",
   "execution_count": 18,
   "id": "93d26de4",
   "metadata": {},
   "outputs": [
    {
     "name": "stdout",
     "output_type": "stream",
     "text": [
      "['Abohar' 'Adilabad' 'Adityapur' 'Adoni' 'Agartala' 'Agra' 'Ahmedabad'\n",
      " 'Ahmednagar' 'Ajmer' 'Akola' 'Alappuzha' 'Aligarh' 'Alipurduar'\n",
      " 'Allahabad' 'Alwar' 'Ambala' 'Ambikapur' 'Ambur' 'Amravati' 'Amreli'\n",
      " 'Amritsar' 'Anand' 'Anantapur' 'Ankleshwar' 'Arambagh' 'Arrah' 'Asansol'\n",
      " 'Aurangabad' 'Aurangabad_bihar' 'Azamgarh' 'Baddi' 'Bagalkot' 'Bagdogra'\n",
      " 'Bahadurgarh' 'Bahraich' 'Balangir' 'Balasore' 'Ballari' 'Balrampur'\n",
      " 'Balurghat' 'Banda' 'Bangalore' 'Bantwal' 'Bapatlachirala' 'Baramati'\n",
      " 'Baran' 'Bardhaman' 'Bardoli' 'Bareilly' 'Barmer' 'Barnala' 'Barshi'\n",
      " 'Barwani' 'Basirhat' 'Basti' 'Batala' 'Bathinda' 'Beawar' 'Beed'\n",
      " 'Begusarai' 'Bela-pratapgarh' 'Belgaum' 'Berhampore' 'Berhampur'\n",
      " 'Bettiah' 'Betul' 'Bhadohi' 'Bhadrachalam' 'Bhagalpur' 'Bhandara'\n",
      " 'Bharabanki' 'Bharatpur' 'Bharuch' 'Bhatkal' 'Bhavnagar' 'Bhawanipatna'\n",
      " 'Bhilai' 'Bhilwara' 'Bhimavaram' 'Bhind' 'Bhiwadi' 'Bhiwani' 'Bhopal'\n",
      " 'Bhubaneswar' 'Bhuj' 'Bhusawal' 'Bidar' 'Biharsharif' 'Bijapur' 'Bijnor'\n",
      " 'Bikaner' 'Bilaspur' 'Bodhan-rural' 'Bokaro' 'Bolpur' 'Bongaigaon'\n",
      " 'Bongaon' 'Budaun' 'Bulandshahr' 'Bundi' 'Burhanpur' 'Buxar'\n",
      " 'Central-goa' 'Chakdaha' 'Chalakkudy' 'Chalisgaon' 'Chandausi'\n",
      " 'Chandigarh' 'Chandrapur' 'Changanassery' 'Chengannur' 'Chennai'\n",
      " 'Cherthala' 'Chhapra' 'Chhatarpur' 'Chhindwara' 'Chidambaram' 'Chikhli'\n",
      " 'Chikkaballapur' 'Chikmagalur' 'Chitradurga' 'Chittoor' 'Chittorgarh'\n",
      " 'Churu' 'Coimbatore' 'Cooch-behar' 'Cuddalore' 'Cuttack' 'Dahod' 'Daman'\n",
      " 'Darbhanga' 'Davanagere' 'Dehradun' 'Dehri' 'Delhi' 'Deoghar' 'Dewas'\n",
      " 'Dhanbad' 'Dhar' 'Dharamshala' 'Dharmapuri' 'Dibrugarh' 'Dimapur'\n",
      " 'Dindigul' 'Diu' 'Doddaballapura' 'Duliajan' 'Dumka' 'Durgapur' 'Eluru'\n",
      " 'Erode' 'Etawah' 'Faizabad' 'Faridabad' 'Faridkot' 'Farrukhabad'\n",
      " 'Fatehabad' 'Fatehgarh-sahib' 'Fatehpur' 'Fazilka' 'Firozabad' 'Firozpur'\n",
      " 'Gadag-betigeri' 'Gadwal' 'Gandhidham' 'Gangapur-city' 'Gangtok'\n",
      " 'Gauriganj' 'Gaya' 'Giridih' 'Godhra' 'Gokak' 'Golaghat' 'Gonda' 'Gondal'\n",
      " 'Gondia' 'Gopalganj' 'Gorakhpur' 'Gudivada' 'Guna' 'Guntakal' 'Guntur'\n",
      " 'Gurdaspur' 'Gurgaon' 'Guwahati' 'Gwalior' 'Habra' 'Haldia' 'Haldwani'\n",
      " 'Halol' 'Hanumangarh' 'Hapur' 'Hardoi' 'Haridwar' 'Hassan' 'Himmatnagar'\n",
      " 'Hinganghat' 'Hisar' 'Hoshangabad' 'Hoshiarpur' 'Hubli' 'Hyderabad'\n",
      " 'Imphal' 'Indore' 'Irinjalakuda' 'Itarsi' 'Jabalpur' 'Jagdalpur'\n",
      " 'Jagraon' 'Jagtial' 'Jahanabad' 'Jaipur' 'Jalgaon' 'Jalpaiguri' 'Jammu'\n",
      " 'Jamnagar' 'Jamshedpur' 'Jaunpur' 'Jhalawar' 'Jhansi' 'Jhargram'\n",
      " 'Jhunjhunu' 'Jind' 'Jodhpur' 'Jorhat' 'Junagadh' 'Kadapa' 'Kadiri'\n",
      " 'Kaithal' 'Kakinada' 'Kalaburagi' 'Kalady' 'Kamareddy' 'Kanchrapara'\n",
      " 'Kannauj' 'Kannur' 'Kanpur' 'Kanyakumari' 'Kapurthala' 'Karaikkudi'\n",
      " 'Karimnagar' 'Karnal' 'Karunagappaly' 'Karur' 'Karwar' 'Kashipur'\n",
      " 'Katihar' 'Katni' 'Kavali' 'Kayamkulam' 'Kendujhar' 'Khamgaon' 'Khammam'\n",
      " 'Khandwa' 'Khanna' 'Kharagpur' 'Kishanganj' 'Kishangarh' 'Kochi'\n",
      " 'Kodaikanal' 'Kolar' 'Kolhapur' 'Kolkata' 'Kollam' 'Kopargaon' 'Koppal'\n",
      " 'Korba' 'Kota' 'Kotdwar' 'Kothamanagalam' 'Kottakkal' 'Kottarakkara'\n",
      " 'Kottayam' 'Kovilpatti' 'Kozhikode' 'Krishnagiri' 'Krishnanagar'\n",
      " 'Kumarakom' 'Kumbakonam' 'Kumta' 'Kundapura' 'Kunnamkullam' 'Kurnool'\n",
      " 'Kurukshetra' 'Lakhimpur' 'Lalitpur' 'Latur' 'Lonavala' 'Lonavla'\n",
      " 'Lucknow' 'Ludhiana' 'Machilipatnam' 'Madanapalle' 'Madhubani' 'Madikeri'\n",
      " 'Madurai' 'Mahbubnagar' 'Malappuram' 'Malda' 'Malegaon' 'Malout'\n",
      " 'Mancherial' 'Mandi-dabwali' 'Mandsaur' 'Mandya' 'Mangaluru' 'Manipal'\n",
      " 'Manjeri' 'Mansa' 'Markapur' 'Mathura' 'Maunath-bhanjan' 'Mayiladuthurai'\n",
      " 'Medinipur' 'Meerut' 'Mehsana' 'Miryalaguda' 'Mirzapur' 'Modinagar'\n",
      " 'Moga' 'Moodbidri' 'Moradabad' 'Morbi' 'Morena' 'Motihari' 'Mughalsarai'\n",
      " 'Muktsar' 'Mumbai' 'Munger' 'Murshidabad' 'Muvattupuzha' 'Muzaffarnagar'\n",
      " 'Muzaffarpur' 'Mysore' 'Nabadwip' 'Nadiad' 'Nagaon' 'Nagapattinam'\n",
      " 'Nagda' 'Nagercoil' 'Nagpur' 'Nainital' 'Nalgonda' 'Namakkal' 'Nanded'\n",
      " 'Nandyal' 'Nangal' 'Naraingarh' 'Narasaraopet' 'Narnaul' 'Narsinghpur'\n",
      " 'Navsari' 'Nellore' 'Neyveli' 'Nirmal' 'Nizamabad' 'Noida' 'Noida-1'\n",
      " 'North-goa' 'Ongole' 'Ooty' 'Orai' 'Osmanabad' 'Pala' 'Palakkad'\n",
      " 'Palampur' 'Palani' 'Pali' 'Panipat' 'Parbhani' 'Pathankot' 'Patiala'\n",
      " 'Patna' 'Perinthalmanna' 'Phagwara' 'Pilibhit' 'Pondicherry' 'Porbandar'\n",
      " 'Proddatur' 'Pudukkottai' 'Pune' 'Puri' 'Purnea' 'Purulia' 'Pusad'\n",
      " 'Rae-bareli' 'Raghunathpur' 'Raichur' 'Raiganj' 'Raipur' 'Rajahmundry'\n",
      " 'Rajapalayam' 'Rajkot' 'Rajsamand' 'Ramagundam' 'Ramanagara'\n",
      " 'Ramanathapuram' 'Rampur' 'Ranaghat-wb' 'Ranchi' 'Raniganj' 'Ratlam'\n",
      " 'Ratnagiri' 'Rayachoty' 'Rewa' 'Rewari' 'Rishikesh' 'Rohtak' 'Roorkee'\n",
      " 'Ropar' 'Rourkela' 'Rudrapur' 'Sagar' 'Saharanpur' 'Saharsa' 'Salem'\n",
      " 'Samastipur' 'Sambalpur' 'Sangli' 'Sangrur' 'Sasaram' 'Satna'\n",
      " 'Sawai-madhopur' 'Sehore' 'Shahjahanpur' 'Shillong' 'Shivamogga'\n",
      " 'Shivpuri' 'Siddipet' 'Sikar' 'Silchar' 'Siliguri' 'Silvassa' 'Sindhanur'\n",
      " 'Singrauli' 'Sirsa' 'Sirsi' 'Sitapur' 'Sivakasi' 'Sivasagar' 'Siwan'\n",
      " 'Solan' 'Solapur' 'Sonipat' 'South-goa' 'Sri-ganganagar' 'Srikakulam'\n",
      " 'Srivilliputhur' 'Sultanpur' 'Surat' 'Suratgarh' 'Surendranagar-dudhrej'\n",
      " 'Suryapet' 'Tadepalligudem' 'Tadpatri' 'Tanuku' 'Tenkasi' 'Tezpur'\n",
      " 'Thalassery' 'Thanjavur' 'Theni' 'Thiruvalla' 'Thiruvallur'\n",
      " 'Thiruvananthapuram' 'Thiruvarur' 'Thodupuzha' 'Thoothukudi' 'Thrissur'\n",
      " 'Tinsukia' 'Tiptur' 'Tirunelveli' 'Tirupati' 'Tirupur' 'Tiruvannamalai'\n",
      " 'Tohana' 'Trichy' 'Tumakuru' 'Tuni' 'Udaipur' 'Udgir' 'Ujjain' 'Uluberia'\n",
      " 'Uran-islampur' 'Vadodara' 'Valsad' 'Vapi' 'Varanasi' 'Varkala' 'Vellore'\n",
      " 'Veraval' 'Vidisha' 'Vijayawada' 'Virudhunagar' 'Vizag' 'Vizianagaram'\n",
      " 'Vyara' 'Waidhan' 'Warangal' 'Wardha' 'Washim' 'Yamuna-nagar' 'Yavatmal']\n"
     ]
    }
   ],
   "source": [
    "# Apply function to the 'city' column\n",
    "df['city_cleaned'] = df['city'].apply(extract_city_name)\n",
    "\n",
    "# Check the result\n",
    "print(df['city_cleaned'].unique())"
   ]
  },
  {
   "cell_type": "code",
   "execution_count": 19,
   "id": "e8b562eb",
   "metadata": {},
   "outputs": [],
   "source": [
    "df.to_csv(\"cleaned_data.csv\",index=False)"
   ]
  },
  {
   "cell_type": "code",
   "execution_count": 21,
   "id": "208b880f",
   "metadata": {},
   "outputs": [],
   "source": [
    "# Data encoding \n",
    "import pandas as pd\n",
    "import numpy as np\n",
    "from sklearn.preprocessing import OneHotEncoder, LabelEncoder\n",
    "\n",
    "# Read your CSV file\n",
    "cleaned_df = pd.read_csv(r\"E:\\APythonSoftware_2025\\MP4\\cleaned_data.csv\")\n",
    "\n",
    "label = LabelEncoder()\n",
    "encoded_name = label.fit_transform(cleaned_df[\"name\"])\n",
    "\n",
    "# One-hot encode 'main_city' and 'sub_city'\n",
    "encoder = OneHotEncoder(handle_unknown='ignore', sparse_output=True)\n",
    "encoded_cities = encoder.fit_transform(cleaned_df[[\"city\",\"cuisine\"]])\n",
    "\n",
    "encoded_df = pd.DataFrame.sparse.from_spmatrix(\n",
    "    encoded_cities,\n",
    "    columns=encoder.get_feature_names_out([\"city\",\"cuisine\"]),\n",
    "    index=cleaned_df.index\n",
    ")\n",
    "\n",
    "numeric_df = cleaned_df.drop(columns=[\"city\",\"cuisine\",\"name\"])\n",
    "mixed_df = pd.concat([numeric_df, encoded_df],axis=1)\n",
    "\n",
    "\n",
    "mixed_df.to_csv(\"encoded_data.csv\", index=False)"
   ]
  },
  {
   "cell_type": "code",
   "execution_count": 22,
   "id": "d05eda52",
   "metadata": {},
   "outputs": [],
   "source": [
    "# Load cleaned data\n",
    "df = pd.read_csv(\"cleaned_data.csv\")\n",
    "\n",
    "name_encoder = LabelEncoder()\n",
    "df['name_encoded'] = name_encoder.fit_transform(df['name'])\n",
    "\n",
    "with open(\"encoders.pkl\", \"wb\") as f:\n",
    "    pickle.dump({\"Encoder\": encoder, \"Label\": name_encoder}, f)\n"
   ]
  },
  {
   "cell_type": "code",
   "execution_count": 23,
   "id": "22159cc1",
   "metadata": {},
   "outputs": [],
   "source": [
    "encoded_df = pd.read_csv(\"encoded_data.csv\")\n",
    "encoded_df['name_encoded'] = df['name_encoded']\n",
    "\n",
    "# Save updated version\n",
    "encoded_df.to_csv(\"name_encoded_data.csv\", index=False)"
   ]
  },
  {
   "cell_type": "code",
   "execution_count": 24,
   "id": "9da01be2",
   "metadata": {},
   "outputs": [],
   "source": [
    "from sklearn.cluster import KMeans\n",
    "from sklearn.preprocessing import StandardScaler"
   ]
  },
  {
   "cell_type": "code",
   "execution_count": 25,
   "id": "38ea40c3",
   "metadata": {},
   "outputs": [],
   "source": [
    "# Label-encoded data (contains name_encoded and numeric features)\n",
    "name_encoded_df = pd.read_csv(\"name_encoded_data.csv\")\n",
    "\n",
    "# One-hot encoded data for city and cuisine\n",
    "encoded_df = pd.read_csv(\"encoded_data.csv\")  # previously saved from sparse one-hot encoding"
   ]
  },
  {
   "cell_type": "code",
   "execution_count": null,
   "id": "a9a3e6f1",
   "metadata": {},
   "outputs": [],
   "source": [
    "assert name_encoded_df.shape[0] == encoded_df.shape[0]"
   ]
  },
  {
   "cell_type": "code",
   "execution_count": 27,
   "id": "2d25660c",
   "metadata": {},
   "outputs": [],
   "source": [
    "final_df = pd.concat([name_encoded_df[[\"name_encoded\", \"rating\", \"rating_count\", \"cost\"]],\n",
    "                      encoded_df.drop(columns=[\"rating\", \"rating_count\", \"cost\"])], axis=1)"
   ]
  },
  {
   "cell_type": "code",
   "execution_count": null,
   "id": "5e6bf140",
   "metadata": {},
   "outputs": [],
   "source": [
    "final_df.drop(cloumns=[\"city_cleaned\"])"
   ]
  },
  {
   "cell_type": "code",
   "execution_count": 28,
   "id": "f0107c6a",
   "metadata": {},
   "outputs": [],
   "source": [
    "final_df.to_csv(\"encoded_data_with_name.csv\", index=False)"
   ]
  },
  {
   "cell_type": "code",
   "execution_count": 34,
   "id": "30e718f8",
   "metadata": {},
   "outputs": [
    {
     "data": {
      "text/html": [
       "<div>\n",
       "<style scoped>\n",
       "    .dataframe tbody tr th:only-of-type {\n",
       "        vertical-align: middle;\n",
       "    }\n",
       "\n",
       "    .dataframe tbody tr th {\n",
       "        vertical-align: top;\n",
       "    }\n",
       "\n",
       "    .dataframe thead th {\n",
       "        text-align: right;\n",
       "    }\n",
       "</style>\n",
       "<table border=\"1\" class=\"dataframe\">\n",
       "  <thead>\n",
       "    <tr style=\"text-align: right;\">\n",
       "      <th></th>\n",
       "      <th>name_encoded</th>\n",
       "      <th>rating</th>\n",
       "      <th>rating_count</th>\n",
       "      <th>cost</th>\n",
       "      <th>city_cleaned</th>\n",
       "      <th>city_Abids &amp; Koti,Hyderabad</th>\n",
       "      <th>city_Abohar</th>\n",
       "      <th>city_Adajan,Surat</th>\n",
       "      <th>city_Adilabad</th>\n",
       "      <th>city_Adityapur</th>\n",
       "      <th>...</th>\n",
       "      <th>cuisine_Turkish,Arabian</th>\n",
       "      <th>cuisine_Turkish,Fast Food</th>\n",
       "      <th>cuisine_Turkish,Lebanese</th>\n",
       "      <th>cuisine_Turkish,Mediterranean</th>\n",
       "      <th>cuisine_Turkish,Middle Eastern</th>\n",
       "      <th>cuisine_Vietnamese,Asian</th>\n",
       "      <th>cuisine_Waffle,Bakery</th>\n",
       "      <th>cuisine_Waffle,Beverages</th>\n",
       "      <th>cuisine_Waffle,Desserts</th>\n",
       "      <th>cuisine_Waffle,Ice Cream</th>\n",
       "    </tr>\n",
       "  </thead>\n",
       "  <tbody>\n",
       "    <tr>\n",
       "      <th>0</th>\n",
       "      <td>10938</td>\n",
       "      <td>4.4</td>\n",
       "      <td>50</td>\n",
       "      <td>200</td>\n",
       "      <td>Abohar</td>\n",
       "      <td>0.0</td>\n",
       "      <td>1.0</td>\n",
       "      <td>0.0</td>\n",
       "      <td>0.0</td>\n",
       "      <td>0.0</td>\n",
       "      <td>...</td>\n",
       "      <td>0.0</td>\n",
       "      <td>0.0</td>\n",
       "      <td>0.0</td>\n",
       "      <td>0.0</td>\n",
       "      <td>0.0</td>\n",
       "      <td>0.0</td>\n",
       "      <td>0.0</td>\n",
       "      <td>0.0</td>\n",
       "      <td>0.0</td>\n",
       "      <td>0.0</td>\n",
       "    </tr>\n",
       "    <tr>\n",
       "      <th>1</th>\n",
       "      <td>25801</td>\n",
       "      <td>3.8</td>\n",
       "      <td>100</td>\n",
       "      <td>100</td>\n",
       "      <td>Abohar</td>\n",
       "      <td>0.0</td>\n",
       "      <td>1.0</td>\n",
       "      <td>0.0</td>\n",
       "      <td>0.0</td>\n",
       "      <td>0.0</td>\n",
       "      <td>...</td>\n",
       "      <td>0.0</td>\n",
       "      <td>0.0</td>\n",
       "      <td>0.0</td>\n",
       "      <td>0.0</td>\n",
       "      <td>0.0</td>\n",
       "      <td>0.0</td>\n",
       "      <td>0.0</td>\n",
       "      <td>0.0</td>\n",
       "      <td>0.0</td>\n",
       "      <td>0.0</td>\n",
       "    </tr>\n",
       "    <tr>\n",
       "      <th>2</th>\n",
       "      <td>25775</td>\n",
       "      <td>4.0</td>\n",
       "      <td>100</td>\n",
       "      <td>150</td>\n",
       "      <td>Abohar</td>\n",
       "      <td>0.0</td>\n",
       "      <td>1.0</td>\n",
       "      <td>0.0</td>\n",
       "      <td>0.0</td>\n",
       "      <td>0.0</td>\n",
       "      <td>...</td>\n",
       "      <td>0.0</td>\n",
       "      <td>0.0</td>\n",
       "      <td>0.0</td>\n",
       "      <td>0.0</td>\n",
       "      <td>0.0</td>\n",
       "      <td>0.0</td>\n",
       "      <td>0.0</td>\n",
       "      <td>0.0</td>\n",
       "      <td>0.0</td>\n",
       "      <td>0.0</td>\n",
       "    </tr>\n",
       "    <tr>\n",
       "      <th>3</th>\n",
       "      <td>2921</td>\n",
       "      <td>4.4</td>\n",
       "      <td>50</td>\n",
       "      <td>300</td>\n",
       "      <td>Abohar</td>\n",
       "      <td>0.0</td>\n",
       "      <td>1.0</td>\n",
       "      <td>0.0</td>\n",
       "      <td>0.0</td>\n",
       "      <td>0.0</td>\n",
       "      <td>...</td>\n",
       "      <td>0.0</td>\n",
       "      <td>0.0</td>\n",
       "      <td>0.0</td>\n",
       "      <td>0.0</td>\n",
       "      <td>0.0</td>\n",
       "      <td>0.0</td>\n",
       "      <td>0.0</td>\n",
       "      <td>0.0</td>\n",
       "      <td>0.0</td>\n",
       "      <td>0.0</td>\n",
       "    </tr>\n",
       "    <tr>\n",
       "      <th>4</th>\n",
       "      <td>15093</td>\n",
       "      <td>4.1</td>\n",
       "      <td>100</td>\n",
       "      <td>150</td>\n",
       "      <td>Abohar</td>\n",
       "      <td>0.0</td>\n",
       "      <td>1.0</td>\n",
       "      <td>0.0</td>\n",
       "      <td>0.0</td>\n",
       "      <td>0.0</td>\n",
       "      <td>...</td>\n",
       "      <td>0.0</td>\n",
       "      <td>0.0</td>\n",
       "      <td>0.0</td>\n",
       "      <td>0.0</td>\n",
       "      <td>0.0</td>\n",
       "      <td>0.0</td>\n",
       "      <td>0.0</td>\n",
       "      <td>0.0</td>\n",
       "      <td>0.0</td>\n",
       "      <td>0.0</td>\n",
       "    </tr>\n",
       "  </tbody>\n",
       "</table>\n",
       "<p>5 rows × 2110 columns</p>\n",
       "</div>"
      ],
      "text/plain": [
       "   name_encoded  rating  rating_count  cost city_cleaned  \\\n",
       "0         10938     4.4            50   200       Abohar   \n",
       "1         25801     3.8           100   100       Abohar   \n",
       "2         25775     4.0           100   150       Abohar   \n",
       "3          2921     4.4            50   300       Abohar   \n",
       "4         15093     4.1           100   150       Abohar   \n",
       "\n",
       "   city_Abids & Koti,Hyderabad  city_Abohar  city_Adajan,Surat  city_Adilabad  \\\n",
       "0                          0.0          1.0                0.0            0.0   \n",
       "1                          0.0          1.0                0.0            0.0   \n",
       "2                          0.0          1.0                0.0            0.0   \n",
       "3                          0.0          1.0                0.0            0.0   \n",
       "4                          0.0          1.0                0.0            0.0   \n",
       "\n",
       "   city_Adityapur  ...  cuisine_Turkish,Arabian  cuisine_Turkish,Fast Food  \\\n",
       "0             0.0  ...                      0.0                        0.0   \n",
       "1             0.0  ...                      0.0                        0.0   \n",
       "2             0.0  ...                      0.0                        0.0   \n",
       "3             0.0  ...                      0.0                        0.0   \n",
       "4             0.0  ...                      0.0                        0.0   \n",
       "\n",
       "   cuisine_Turkish,Lebanese  cuisine_Turkish,Mediterranean  \\\n",
       "0                       0.0                            0.0   \n",
       "1                       0.0                            0.0   \n",
       "2                       0.0                            0.0   \n",
       "3                       0.0                            0.0   \n",
       "4                       0.0                            0.0   \n",
       "\n",
       "   cuisine_Turkish,Middle Eastern  cuisine_Vietnamese,Asian  \\\n",
       "0                             0.0                       0.0   \n",
       "1                             0.0                       0.0   \n",
       "2                             0.0                       0.0   \n",
       "3                             0.0                       0.0   \n",
       "4                             0.0                       0.0   \n",
       "\n",
       "   cuisine_Waffle,Bakery  cuisine_Waffle,Beverages  cuisine_Waffle,Desserts  \\\n",
       "0                    0.0                       0.0                      0.0   \n",
       "1                    0.0                       0.0                      0.0   \n",
       "2                    0.0                       0.0                      0.0   \n",
       "3                    0.0                       0.0                      0.0   \n",
       "4                    0.0                       0.0                      0.0   \n",
       "\n",
       "   cuisine_Waffle,Ice Cream  \n",
       "0                       0.0  \n",
       "1                       0.0  \n",
       "2                       0.0  \n",
       "3                       0.0  \n",
       "4                       0.0  \n",
       "\n",
       "[5 rows x 2110 columns]"
      ]
     },
     "execution_count": 34,
     "metadata": {},
     "output_type": "execute_result"
    }
   ],
   "source": [
    "final_df.head()"
   ]
  },
  {
   "cell_type": "code",
   "execution_count": 37,
   "id": "d5128cb3",
   "metadata": {},
   "outputs": [],
   "source": [
    "df = pd.read_csv(\"encoded_data_with_name.csv\")"
   ]
  },
  {
   "cell_type": "code",
   "execution_count": 38,
   "id": "8ebce03e",
   "metadata": {},
   "outputs": [
    {
     "name": "stdout",
     "output_type": "stream",
     "text": [
      "Columns with object datatype: Index(['city_cleaned'], dtype='object')\n"
     ]
    }
   ],
   "source": [
    "# Identify columns with datatype 'object'\n",
    "object_cols = df.select_dtypes(include=['object']).columns\n",
    "\n",
    "# Display the column names\n",
    "print(\"Columns with object datatype:\", object_cols)\n"
   ]
  },
  {
   "cell_type": "code",
   "execution_count": 40,
   "id": "f789c1f4",
   "metadata": {},
   "outputs": [],
   "source": [
    "X = df.drop(columns=['city_cleaned'])\n",
    "scaler = StandardScaler()\n",
    "X_scaled = scaler.fit_transform(X)\n",
    "\n",
    "\n",
    "kmeans = KMeans(n_clusters=4, random_state=42)\n",
    "clusters = kmeans.fit_predict(X_scaled)"
   ]
  },
  {
   "cell_type": "code",
   "execution_count": 41,
   "id": "4151013c",
   "metadata": {},
   "outputs": [],
   "source": [
    "df['cluster'] = clusters\n",
    "df.to_csv(\"clustered_data.csv\", index=False)"
   ]
  }
 ],
 "metadata": {
  "kernelspec": {
   "display_name": "Python 3",
   "language": "python",
   "name": "python3"
  },
  "language_info": {
   "codemirror_mode": {
    "name": "ipython",
    "version": 3
   },
   "file_extension": ".py",
   "mimetype": "text/x-python",
   "name": "python",
   "nbconvert_exporter": "python",
   "pygments_lexer": "ipython3",
   "version": "3.13.2"
  }
 },
 "nbformat": 4,
 "nbformat_minor": 5
}
