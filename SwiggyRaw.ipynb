{
 "cells": [
  {
   "cell_type": "code",
   "execution_count": 36,
   "id": "6da08698",
   "metadata": {},
   "outputs": [],
   "source": [
    "import pandas as pd\n",
    "import numpy as np\n",
    "import seaborn as sns\n",
    "import matplotlib.pyplot as plt\n",
    "import pickle\n",
    "import joblib"
   ]
  },
  {
   "cell_type": "code",
   "execution_count": 37,
   "id": "09cf7b92",
   "metadata": {},
   "outputs": [
    {
     "data": {
      "text/html": [
       "<div>\n",
       "<style scoped>\n",
       "    .dataframe tbody tr th:only-of-type {\n",
       "        vertical-align: middle;\n",
       "    }\n",
       "\n",
       "    .dataframe tbody tr th {\n",
       "        vertical-align: top;\n",
       "    }\n",
       "\n",
       "    .dataframe thead th {\n",
       "        text-align: right;\n",
       "    }\n",
       "</style>\n",
       "<table border=\"1\" class=\"dataframe\">\n",
       "  <thead>\n",
       "    <tr style=\"text-align: right;\">\n",
       "      <th></th>\n",
       "      <th>id</th>\n",
       "      <th>name</th>\n",
       "      <th>city</th>\n",
       "      <th>rating</th>\n",
       "      <th>rating_count</th>\n",
       "      <th>cost</th>\n",
       "      <th>cuisine</th>\n",
       "      <th>lic_no</th>\n",
       "      <th>link</th>\n",
       "      <th>address</th>\n",
       "      <th>menu</th>\n",
       "    </tr>\n",
       "  </thead>\n",
       "  <tbody>\n",
       "    <tr>\n",
       "      <th>0</th>\n",
       "      <td>567335</td>\n",
       "      <td>AB FOODS POINT</td>\n",
       "      <td>Abohar</td>\n",
       "      <td>--</td>\n",
       "      <td>Too Few Ratings</td>\n",
       "      <td>₹ 200</td>\n",
       "      <td>Beverages,Pizzas</td>\n",
       "      <td>22122652000138</td>\n",
       "      <td>https://www.swiggy.com/restaurants/ab-foods-po...</td>\n",
       "      <td>AB FOODS POINT, NEAR RISHI NARANG DENTAL CLINI...</td>\n",
       "      <td>Menu/567335.json</td>\n",
       "    </tr>\n",
       "    <tr>\n",
       "      <th>1</th>\n",
       "      <td>531342</td>\n",
       "      <td>Janta Sweet House</td>\n",
       "      <td>Abohar</td>\n",
       "      <td>4.4</td>\n",
       "      <td>50+ ratings</td>\n",
       "      <td>₹ 200</td>\n",
       "      <td>Sweets,Bakery</td>\n",
       "      <td>12117201000112</td>\n",
       "      <td>https://www.swiggy.com/restaurants/janta-sweet...</td>\n",
       "      <td>Janta Sweet House, Bazar No.9, Circullar Road,...</td>\n",
       "      <td>Menu/531342.json</td>\n",
       "    </tr>\n",
       "    <tr>\n",
       "      <th>2</th>\n",
       "      <td>158203</td>\n",
       "      <td>theka coffee desi</td>\n",
       "      <td>Abohar</td>\n",
       "      <td>3.8</td>\n",
       "      <td>100+ ratings</td>\n",
       "      <td>₹ 100</td>\n",
       "      <td>Beverages</td>\n",
       "      <td>22121652000190</td>\n",
       "      <td>https://www.swiggy.com/restaurants/theka-coffe...</td>\n",
       "      <td>theka coffee desi, sahtiya sadan road city</td>\n",
       "      <td>Menu/158203.json</td>\n",
       "    </tr>\n",
       "    <tr>\n",
       "      <th>3</th>\n",
       "      <td>187912</td>\n",
       "      <td>Singh Hut</td>\n",
       "      <td>Abohar</td>\n",
       "      <td>3.7</td>\n",
       "      <td>20+ ratings</td>\n",
       "      <td>₹ 250</td>\n",
       "      <td>Fast Food,Indian</td>\n",
       "      <td>22119652000167</td>\n",
       "      <td>https://www.swiggy.com/restaurants/singh-hut-n...</td>\n",
       "      <td>Singh Hut, CIRCULAR ROAD NEAR NEHRU PARK ABOHAR</td>\n",
       "      <td>Menu/187912.json</td>\n",
       "    </tr>\n",
       "    <tr>\n",
       "      <th>4</th>\n",
       "      <td>543530</td>\n",
       "      <td>GRILL MASTERS</td>\n",
       "      <td>Abohar</td>\n",
       "      <td>--</td>\n",
       "      <td>Too Few Ratings</td>\n",
       "      <td>₹ 250</td>\n",
       "      <td>Italian-American,Fast Food</td>\n",
       "      <td>12122201000053</td>\n",
       "      <td>https://www.swiggy.com/restaurants/grill-maste...</td>\n",
       "      <td>GRILL MASTERS, ADA Heights, Abohar - Hanumanga...</td>\n",
       "      <td>Menu/543530.json</td>\n",
       "    </tr>\n",
       "  </tbody>\n",
       "</table>\n",
       "</div>"
      ],
      "text/plain": [
       "       id               name    city rating     rating_count   cost  \\\n",
       "0  567335     AB FOODS POINT  Abohar     --  Too Few Ratings  ₹ 200   \n",
       "1  531342  Janta Sweet House  Abohar    4.4      50+ ratings  ₹ 200   \n",
       "2  158203  theka coffee desi  Abohar    3.8     100+ ratings  ₹ 100   \n",
       "3  187912          Singh Hut  Abohar    3.7      20+ ratings  ₹ 250   \n",
       "4  543530      GRILL MASTERS  Abohar     --  Too Few Ratings  ₹ 250   \n",
       "\n",
       "                      cuisine          lic_no  \\\n",
       "0            Beverages,Pizzas  22122652000138   \n",
       "1               Sweets,Bakery  12117201000112   \n",
       "2                   Beverages  22121652000190   \n",
       "3            Fast Food,Indian  22119652000167   \n",
       "4  Italian-American,Fast Food  12122201000053   \n",
       "\n",
       "                                                link  \\\n",
       "0  https://www.swiggy.com/restaurants/ab-foods-po...   \n",
       "1  https://www.swiggy.com/restaurants/janta-sweet...   \n",
       "2  https://www.swiggy.com/restaurants/theka-coffe...   \n",
       "3  https://www.swiggy.com/restaurants/singh-hut-n...   \n",
       "4  https://www.swiggy.com/restaurants/grill-maste...   \n",
       "\n",
       "                                             address              menu  \n",
       "0  AB FOODS POINT, NEAR RISHI NARANG DENTAL CLINI...  Menu/567335.json  \n",
       "1  Janta Sweet House, Bazar No.9, Circullar Road,...  Menu/531342.json  \n",
       "2         theka coffee desi, sahtiya sadan road city  Menu/158203.json  \n",
       "3    Singh Hut, CIRCULAR ROAD NEAR NEHRU PARK ABOHAR  Menu/187912.json  \n",
       "4  GRILL MASTERS, ADA Heights, Abohar - Hanumanga...  Menu/543530.json  "
      ]
     },
     "execution_count": 37,
     "metadata": {},
     "output_type": "execute_result"
    }
   ],
   "source": [
    "df = pd.read_csv(r\"E:\\APythonSoftware_2025\\MP4\\swiggy.csv\")\n",
    "df.head()"
   ]
  },
  {
   "cell_type": "code",
   "execution_count": 38,
   "id": "7fd56b79",
   "metadata": {},
   "outputs": [],
   "source": [
    "df[\"rating\"] = df[\"rating\"].replace(\"--\",np.nan)\n",
    "df['rating'] = pd.to_numeric(df['rating'], errors='coerce')"
   ]
  },
  {
   "cell_type": "code",
   "execution_count": 39,
   "id": "5f59dc1b",
   "metadata": {},
   "outputs": [],
   "source": [
    "df.dropna(inplace=True)"
   ]
  },
  {
   "cell_type": "code",
   "execution_count": 40,
   "id": "1ab2daaf",
   "metadata": {},
   "outputs": [],
   "source": [
    "df.drop(df[df[\"cuisine\"] == \"8:15 To 11:30 Pm\"].index, inplace=True)"
   ]
  },
  {
   "cell_type": "code",
   "execution_count": 41,
   "id": "18b82c53",
   "metadata": {},
   "outputs": [
    {
     "data": {
      "text/plain": [
       "(61343, 11)"
      ]
     },
     "execution_count": 41,
     "metadata": {},
     "output_type": "execute_result"
    }
   ],
   "source": [
    "df.shape"
   ]
  },
  {
   "cell_type": "code",
   "execution_count": 42,
   "id": "e7457abd",
   "metadata": {},
   "outputs": [],
   "source": [
    "df[\"rating_count\"] = df[\"rating_count\"].replace('Too Few Ratings','12')\n",
    "\n",
    "df[\"rating_count\"] = df[\"rating_count\"].str.replace(\"+ ratings\",\"\",regex=False)\n",
    "\n",
    "df[\"rating_count\"] = df[\"rating_count\"].str.replace(\"K\",\"000\",regex=False)\n",
    "\n",
    "df[\"rating_count\"] = pd.to_numeric(df[\"rating_count\"], errors='coerce') #--> Converting the datatype"
   ]
  },
  {
   "cell_type": "code",
   "execution_count": 43,
   "id": "ad1e9822",
   "metadata": {},
   "outputs": [],
   "source": [
    "df.drop(df[df[\"rating_count\"] < 21 ].index, inplace=True)"
   ]
  },
  {
   "cell_type": "code",
   "execution_count": 44,
   "id": "a36356da",
   "metadata": {},
   "outputs": [
    {
     "data": {
      "text/plain": [
       "(39739, 11)"
      ]
     },
     "execution_count": 44,
     "metadata": {},
     "output_type": "execute_result"
    }
   ],
   "source": [
    "df.shape"
   ]
  },
  {
   "cell_type": "code",
   "execution_count": 45,
   "id": "2e7d5f27",
   "metadata": {},
   "outputs": [
    {
     "data": {
      "text/plain": [
       "rating_count\n",
       "100      20514\n",
       "50       11985\n",
       "500       4390\n",
       "1000      2737\n",
       "5000        98\n",
       "10000       15\n",
       "Name: count, dtype: int64"
      ]
     },
     "execution_count": 45,
     "metadata": {},
     "output_type": "execute_result"
    }
   ],
   "source": [
    "df['rating_count'].value_counts()"
   ]
  },
  {
   "cell_type": "code",
   "execution_count": 46,
   "id": "edee701d",
   "metadata": {},
   "outputs": [
    {
     "data": {
      "text/html": [
       "<div>\n",
       "<style scoped>\n",
       "    .dataframe tbody tr th:only-of-type {\n",
       "        vertical-align: middle;\n",
       "    }\n",
       "\n",
       "    .dataframe tbody tr th {\n",
       "        vertical-align: top;\n",
       "    }\n",
       "\n",
       "    .dataframe thead th {\n",
       "        text-align: right;\n",
       "    }\n",
       "</style>\n",
       "<table border=\"1\" class=\"dataframe\">\n",
       "  <thead>\n",
       "    <tr style=\"text-align: right;\">\n",
       "      <th></th>\n",
       "      <th>id</th>\n",
       "      <th>name</th>\n",
       "      <th>city</th>\n",
       "      <th>rating</th>\n",
       "      <th>rating_count</th>\n",
       "      <th>cost</th>\n",
       "      <th>cuisine</th>\n",
       "      <th>lic_no</th>\n",
       "      <th>link</th>\n",
       "      <th>address</th>\n",
       "      <th>menu</th>\n",
       "    </tr>\n",
       "  </thead>\n",
       "  <tbody>\n",
       "  </tbody>\n",
       "</table>\n",
       "</div>"
      ],
      "text/plain": [
       "Empty DataFrame\n",
       "Columns: [id, name, city, rating, rating_count, cost, cuisine, lic_no, link, address, menu]\n",
       "Index: []"
      ]
     },
     "execution_count": 46,
     "metadata": {},
     "output_type": "execute_result"
    }
   ],
   "source": [
    "df[df.duplicated()]"
   ]
  },
  {
   "cell_type": "code",
   "execution_count": 47,
   "id": "151695ce",
   "metadata": {},
   "outputs": [
    {
     "data": {
      "text/plain": [
       "id              0\n",
       "name            0\n",
       "city            0\n",
       "rating          0\n",
       "rating_count    0\n",
       "cost            0\n",
       "cuisine         0\n",
       "lic_no          0\n",
       "link            0\n",
       "address         0\n",
       "menu            0\n",
       "dtype: int64"
      ]
     },
     "execution_count": 47,
     "metadata": {},
     "output_type": "execute_result"
    }
   ],
   "source": [
    "df.isnull().sum()"
   ]
  },
  {
   "cell_type": "code",
   "execution_count": 48,
   "id": "34151a2e",
   "metadata": {},
   "outputs": [],
   "source": [
    "df.drop([\"id\",\"lic_no\",\"link\",\"menu\",\"address\"],axis=\"columns\",inplace=True)"
   ]
  },
  {
   "cell_type": "code",
   "execution_count": 49,
   "id": "34df8070",
   "metadata": {},
   "outputs": [
    {
     "name": "stdout",
     "output_type": "stream",
     "text": [
      "<class 'pandas.core.frame.DataFrame'>\n",
      "Index: 39739 entries, 1 to 148509\n",
      "Data columns (total 6 columns):\n",
      " #   Column        Non-Null Count  Dtype  \n",
      "---  ------        --------------  -----  \n",
      " 0   name          39739 non-null  object \n",
      " 1   city          39739 non-null  object \n",
      " 2   rating        39739 non-null  float64\n",
      " 3   rating_count  39739 non-null  int64  \n",
      " 4   cost          39739 non-null  object \n",
      " 5   cuisine       39739 non-null  object \n",
      "dtypes: float64(1), int64(1), object(4)\n",
      "memory usage: 2.1+ MB\n"
     ]
    }
   ],
   "source": [
    "df.info()"
   ]
  },
  {
   "cell_type": "code",
   "execution_count": 50,
   "id": "98da3ce7",
   "metadata": {},
   "outputs": [],
   "source": [
    "df.dropna(subset = [\"cost\"],inplace = True) #--> Removing the Null values\n",
    "\n",
    "df[\"cost\"] = df[\"cost\"].str.replace(\"₹\", \"\", regex=False)\n",
    "\n",
    "df[\"cost\"] = pd.to_numeric(df[\"cost\"], errors=\"coerce\") #--> Converting the datatype"
   ]
  },
  {
   "cell_type": "code",
   "execution_count": 51,
   "id": "0d24f03d",
   "metadata": {},
   "outputs": [
    {
     "name": "stdout",
     "output_type": "stream",
     "text": [
      "<class 'pandas.core.frame.DataFrame'>\n",
      "Index: 39739 entries, 1 to 148509\n",
      "Data columns (total 6 columns):\n",
      " #   Column        Non-Null Count  Dtype  \n",
      "---  ------        --------------  -----  \n",
      " 0   name          39739 non-null  object \n",
      " 1   city          39739 non-null  object \n",
      " 2   rating        39739 non-null  float64\n",
      " 3   rating_count  39739 non-null  int64  \n",
      " 4   cost          39739 non-null  int64  \n",
      " 5   cuisine       39739 non-null  object \n",
      "dtypes: float64(1), int64(2), object(3)\n",
      "memory usage: 2.1+ MB\n"
     ]
    }
   ],
   "source": [
    "df.info()"
   ]
  },
  {
   "cell_type": "code",
   "execution_count": 52,
   "id": "84223f78",
   "metadata": {},
   "outputs": [],
   "source": [
    "# Function to extract value after the last comma inside quotes\n",
    "def extract_city_name(city):\n",
    "    if pd.isna(city):\n",
    "        return city  # Skip NaNs\n",
    "    city = city.strip()\n",
    "\n",
    "    # Remove outer quotes if present\n",
    "    if (city.startswith('\"') and city.endswith('\"')) or (city.startswith(\"'\") and city.endswith(\"'\")):\n",
    "        city = city[1:-1]\n",
    "\n",
    "    # Extract part after the last comma, or return as is\n",
    "    if ',' in city:\n",
    "        return city.split(',')[-1].strip()\n",
    "    else:\n",
    "        return city.strip()\n"
   ]
  },
  {
   "cell_type": "code",
   "execution_count": 53,
   "id": "93d26de4",
   "metadata": {},
   "outputs": [
    {
     "name": "stdout",
     "output_type": "stream",
     "text": [
      "['Abohar' 'Adilabad' 'Adityapur' 'Adoni' 'Agartala' 'Agra' 'Ahmedabad'\n",
      " 'Ahmednagar' 'Ajmer' 'Akola' 'Alappuzha' 'Aligarh' 'Alipurduar'\n",
      " 'Allahabad' 'Alwar' 'Ambala' 'Ambikapur' 'Ambur' 'Amravati' 'Amreli'\n",
      " 'Amritsar' 'Anand' 'Anantapur' 'Ankleshwar' 'Arambagh' 'Arrah' 'Asansol'\n",
      " 'Aurangabad' 'Aurangabad_bihar' 'Azamgarh' 'Baddi' 'Bagalkot' 'Bagdogra'\n",
      " 'Bahadurgarh' 'Bahraich' 'Balangir' 'Balasore' 'Ballari' 'Balrampur'\n",
      " 'Balurghat' 'Banda' 'Bangalore' 'Bantwal' 'Bapatlachirala' 'Baramati'\n",
      " 'Baran' 'Bardhaman' 'Bardoli' 'Bareilly' 'Barmer' 'Barnala' 'Barshi'\n",
      " 'Barwani' 'Basirhat' 'Basti' 'Batala' 'Bathinda' 'Beawar' 'Beed'\n",
      " 'Begusarai' 'Bela-pratapgarh' 'Belgaum' 'Berhampore' 'Berhampur'\n",
      " 'Bettiah' 'Betul' 'Bhadohi' 'Bhadrachalam' 'Bhagalpur' 'Bhandara'\n",
      " 'Bharabanki' 'Bharatpur' 'Bharuch' 'Bhatkal' 'Bhavnagar' 'Bhawanipatna'\n",
      " 'Bhilai' 'Bhilwara' 'Bhimavaram' 'Bhind' 'Bhiwadi' 'Bhiwani' 'Bhopal'\n",
      " 'Bhubaneswar' 'Bhuj' 'Bhusawal' 'Bidar' 'Biharsharif' 'Bijapur' 'Bijnor'\n",
      " 'Bikaner' 'Bilaspur' 'Bodhan-rural' 'Bokaro' 'Bolpur' 'Bongaigaon'\n",
      " 'Bongaon' 'Budaun' 'Bulandshahr' 'Bundi' 'Burhanpur' 'Buxar'\n",
      " 'Central-goa' 'Chakdaha' 'Chalakkudy' 'Chalisgaon' 'Chandausi'\n",
      " 'Chandigarh' 'Chandrapur' 'Changanassery' 'Chengannur' 'Chennai'\n",
      " 'Cherthala' 'Chhapra' 'Chhatarpur' 'Chhindwara' 'Chidambaram' 'Chikhli'\n",
      " 'Chikkaballapur' 'Chikmagalur' 'Chitradurga' 'Chittoor' 'Chittorgarh'\n",
      " 'Churu' 'Coimbatore' 'Cooch-behar' 'Cuddalore' 'Cuttack' 'Dahod' 'Daman'\n",
      " 'Darbhanga' 'Davanagere' 'Dehradun' 'Dehri' 'Delhi' 'Deoghar' 'Dewas'\n",
      " 'Dhanbad' 'Dhar' 'Dharamshala' 'Dharmapuri' 'Dibrugarh' 'Dimapur'\n",
      " 'Dindigul' 'Diu' 'Doddaballapura' 'Duliajan' 'Dumka' 'Durgapur' 'Eluru'\n",
      " 'Erode' 'Etawah' 'Faizabad' 'Faridabad' 'Faridkot' 'Farrukhabad'\n",
      " 'Fatehabad' 'Fatehgarh-sahib' 'Fatehpur' 'Fazilka' 'Firozabad' 'Firozpur'\n",
      " 'Gadag-betigeri' 'Gadwal' 'Gandhidham' 'Gangapur-city' 'Gangtok'\n",
      " 'Gauriganj' 'Gaya' 'Giridih' 'Godhra' 'Gokak' 'Golaghat' 'Gonda' 'Gondal'\n",
      " 'Gondia' 'Gopalganj' 'Gorakhpur' 'Gudivada' 'Guna' 'Guntakal' 'Guntur'\n",
      " 'Gurdaspur' 'Gurgaon' 'Guwahati' 'Gwalior' 'Habra' 'Haldia' 'Haldwani'\n",
      " 'Halol' 'Hanumangarh' 'Hapur' 'Hardoi' 'Haridwar' 'Hassan' 'Himmatnagar'\n",
      " 'Hinganghat' 'Hisar' 'Hoshangabad' 'Hoshiarpur' 'Hubli' 'Hyderabad'\n",
      " 'Imphal' 'Indore' 'Irinjalakuda' 'Itarsi' 'Jabalpur' 'Jagdalpur'\n",
      " 'Jagraon' 'Jagtial' 'Jahanabad' 'Jaipur' 'Jalgaon' 'Jalpaiguri' 'Jammu'\n",
      " 'Jamnagar' 'Jamshedpur' 'Jaunpur' 'Jhalawar' 'Jhansi' 'Jhargram'\n",
      " 'Jhunjhunu' 'Jind' 'Jodhpur' 'Jorhat' 'Junagadh' 'Kadapa' 'Kadiri'\n",
      " 'Kaithal' 'Kakinada' 'Kalaburagi' 'Kalady' 'Kamareddy' 'Kanchrapara'\n",
      " 'Kannauj' 'Kannur' 'Kanpur' 'Kanyakumari' 'Kapurthala' 'Karaikkudi'\n",
      " 'Karimnagar' 'Karnal' 'Karunagappaly' 'Karur' 'Karwar' 'Kashipur'\n",
      " 'Katihar' 'Katni' 'Kavali' 'Kayamkulam' 'Kendujhar' 'Khamgaon' 'Khammam'\n",
      " 'Khandwa' 'Khanna' 'Kharagpur' 'Kishanganj' 'Kishangarh' 'Kochi'\n",
      " 'Kodaikanal' 'Kolar' 'Kolhapur' 'Kolkata' 'Kollam' 'Kopargaon' 'Koppal'\n",
      " 'Korba' 'Kota' 'Kotdwar' 'Kothamanagalam' 'Kottakkal' 'Kottarakkara'\n",
      " 'Kottayam' 'Kovilpatti' 'Kozhikode' 'Krishnagiri' 'Krishnanagar'\n",
      " 'Kumarakom' 'Kumbakonam' 'Kumta' 'Kundapura' 'Kunnamkullam' 'Kurnool'\n",
      " 'Kurukshetra' 'Lakhimpur' 'Lalitpur' 'Latur' 'Lonavala' 'Lonavla'\n",
      " 'Lucknow' 'Ludhiana' 'Machilipatnam' 'Madanapalle' 'Madhubani' 'Madikeri'\n",
      " 'Madurai' 'Mahbubnagar' 'Malappuram' 'Malda' 'Malegaon' 'Malout'\n",
      " 'Mancherial' 'Mandi-dabwali' 'Mandsaur' 'Mandya' 'Mangaluru' 'Manipal'\n",
      " 'Manjeri' 'Mansa' 'Markapur' 'Mathura' 'Maunath-bhanjan' 'Mayiladuthurai'\n",
      " 'Medinipur' 'Meerut' 'Mehsana' 'Miryalaguda' 'Mirzapur' 'Modinagar'\n",
      " 'Moga' 'Moodbidri' 'Moradabad' 'Morbi' 'Morena' 'Motihari' 'Mughalsarai'\n",
      " 'Muktsar' 'Mumbai' 'Munger' 'Murshidabad' 'Muvattupuzha' 'Muzaffarnagar'\n",
      " 'Muzaffarpur' 'Mysore' 'Nabadwip' 'Nadiad' 'Nagaon' 'Nagapattinam'\n",
      " 'Nagda' 'Nagercoil' 'Nagpur' 'Nainital' 'Nalgonda' 'Namakkal' 'Nanded'\n",
      " 'Nandyal' 'Nangal' 'Naraingarh' 'Narasaraopet' 'Narnaul' 'Narsinghpur'\n",
      " 'Navsari' 'Nellore' 'Neyveli' 'Nirmal' 'Nizamabad' 'Noida' 'Noida-1'\n",
      " 'North-goa' 'Ongole' 'Ooty' 'Orai' 'Osmanabad' 'Pala' 'Palakkad'\n",
      " 'Palampur' 'Palani' 'Pali' 'Panipat' 'Parbhani' 'Pathankot' 'Patiala'\n",
      " 'Patna' 'Perinthalmanna' 'Phagwara' 'Pilibhit' 'Pondicherry' 'Porbandar'\n",
      " 'Proddatur' 'Pudukkottai' 'Pune' 'Puri' 'Purnea' 'Purulia' 'Pusad'\n",
      " 'Rae-bareli' 'Raghunathpur' 'Raichur' 'Raiganj' 'Raipur' 'Rajahmundry'\n",
      " 'Rajapalayam' 'Rajkot' 'Rajsamand' 'Ramagundam' 'Ramanagara'\n",
      " 'Ramanathapuram' 'Rampur' 'Ranaghat-wb' 'Ranchi' 'Raniganj' 'Ratlam'\n",
      " 'Ratnagiri' 'Rayachoty' 'Rewa' 'Rewari' 'Rishikesh' 'Rohtak' 'Roorkee'\n",
      " 'Ropar' 'Rourkela' 'Rudrapur' 'Sagar' 'Saharanpur' 'Saharsa' 'Salem'\n",
      " 'Samastipur' 'Sambalpur' 'Sangli' 'Sangrur' 'Sasaram' 'Satna'\n",
      " 'Sawai-madhopur' 'Sehore' 'Shahjahanpur' 'Shillong' 'Shivamogga'\n",
      " 'Shivpuri' 'Siddipet' 'Sikar' 'Silchar' 'Siliguri' 'Silvassa' 'Sindhanur'\n",
      " 'Singrauli' 'Sirsa' 'Sirsi' 'Sitapur' 'Sivakasi' 'Sivasagar' 'Siwan'\n",
      " 'Solan' 'Solapur' 'Sonipat' 'South-goa' 'Sri-ganganagar' 'Srikakulam'\n",
      " 'Srivilliputhur' 'Sultanpur' 'Surat' 'Suratgarh' 'Surendranagar-dudhrej'\n",
      " 'Suryapet' 'Tadepalligudem' 'Tadpatri' 'Tanuku' 'Tenkasi' 'Tezpur'\n",
      " 'Thalassery' 'Thanjavur' 'Theni' 'Thiruvalla' 'Thiruvallur'\n",
      " 'Thiruvananthapuram' 'Thiruvarur' 'Thodupuzha' 'Thoothukudi' 'Thrissur'\n",
      " 'Tinsukia' 'Tiptur' 'Tirunelveli' 'Tirupati' 'Tirupur' 'Tiruvannamalai'\n",
      " 'Tohana' 'Trichy' 'Tumakuru' 'Tuni' 'Udaipur' 'Udgir' 'Ujjain' 'Uluberia'\n",
      " 'Uran-islampur' 'Vadodara' 'Valsad' 'Vapi' 'Varanasi' 'Varkala' 'Vellore'\n",
      " 'Veraval' 'Vidisha' 'Vijayawada' 'Virudhunagar' 'Vizag' 'Vizianagaram'\n",
      " 'Vyara' 'Waidhan' 'Warangal' 'Wardha' 'Washim' 'Yamuna-nagar' 'Yavatmal']\n"
     ]
    }
   ],
   "source": [
    "# Apply function to the 'city' column\n",
    "df['city_cleaned'] = df['city'].apply(extract_city_name)\n",
    "\n",
    "df.drop(\"city\",axis=\"columns\", inplace=True)\n",
    "\n",
    "# Check the result\n",
    "print(df['city_cleaned'].unique())"
   ]
  },
  {
   "cell_type": "code",
   "execution_count": 54,
   "id": "3de59560",
   "metadata": {},
   "outputs": [
    {
     "data": {
      "text/plain": [
       "Index(['name', 'rating', 'rating_count', 'cost', 'cuisine', 'city_cleaned'], dtype='object')"
      ]
     },
     "execution_count": 54,
     "metadata": {},
     "output_type": "execute_result"
    }
   ],
   "source": [
    "df.columns"
   ]
  },
  {
   "cell_type": "code",
   "execution_count": 55,
   "id": "e8b562eb",
   "metadata": {},
   "outputs": [],
   "source": [
    "df.to_csv(\"cleaned_data.csv\",index=False)"
   ]
  },
  {
   "cell_type": "code",
   "execution_count": 56,
   "id": "3cac6083",
   "metadata": {},
   "outputs": [
    {
     "data": {
      "text/plain": [
       "(39739, 6)"
      ]
     },
     "execution_count": 56,
     "metadata": {},
     "output_type": "execute_result"
    }
   ],
   "source": [
    "df.shape"
   ]
  },
  {
   "cell_type": "code",
   "execution_count": null,
   "id": "208b880f",
   "metadata": {},
   "outputs": [
    {
     "name": "stdout",
     "output_type": "stream",
     "text": [
      "Encoded dataset saved\n"
     ]
    }
   ],
   "source": [
    "# Data encoding \n",
    "import pandas as pd\n",
    "import numpy as np\n",
    "from sklearn.preprocessing import OneHotEncoder, LabelEncoder\n",
    "\n",
    "# Read your CSV file\n",
    "cleaned_df = df[['name','city_cleaned', 'cuisine', 'rating', 'rating_count', 'cost']].copy()\n",
    "\n",
    "# Label Encoding\n",
    "label = LabelEncoder()\n",
    "cleaned_df[\"name_encoded\"] = label.fit_transform(cleaned_df[\"name\"])\n",
    "\n",
    "# One-hot encoder\n",
    "categorical_cols = ['city_cleaned', 'cuisine']\n",
    "encoder = OneHotEncoder(handle_unknown='ignore', sparse_output=False)\n",
    "encoded_array = encoder.fit_transform(cleaned_df[categorical_cols])\n",
    "\n",
    "# DataFrame of encoded features\n",
    "encoded_df = pd.DataFrame(encoded_array, columns=encoder.get_feature_names_out(categorical_cols))\n",
    "\n",
    "# Adding back numerical columns including name_encoded\n",
    "numerical_df = cleaned_df[['name_encoded', 'rating', 'rating_count', 'cost']].reset_index(drop=True)\n",
    "combined_df = pd.concat([encoded_df, numerical_df], axis=1)\n",
    "\n",
    "combined_df.to_csv(\"encoded_data.csv\", index=False)\n",
    "print(\"Encoded dataset saved\")\n"
   ]
  },
  {
   "cell_type": "code",
   "execution_count": 58,
   "id": "df2b1f64",
   "metadata": {},
   "outputs": [
    {
     "name": "stdout",
     "output_type": "stream",
     "text": [
      "✅ Row count matches.\n",
      "✅ Index match confirmed.\n"
     ]
    }
   ],
   "source": [
    "import pandas as pd\n",
    "\n",
    "# Load both datasets\n",
    "cleaned_df = pd.read_csv(\"cleaned_data.csv\")\n",
    "encoded_df = pd.read_csv(\"encoded_data.csv\")\n",
    "\n",
    "# Check row counts\n",
    "if cleaned_df.shape[0] == encoded_df.shape[0]:\n",
    "    print(\"✅ Row count matches.\")\n",
    "else:\n",
    "    print(\"❌ Row count mismatch!\")\n",
    "\n",
    "# Check index match\n",
    "if (cleaned_df.index == encoded_df.index).all():\n",
    "    print(\"✅ Index match confirmed.\")\n",
    "else:\n",
    "    print(\"ℹ️ Index mismatch. Resetting index...\")\n",
    "    cleaned_df.reset_index(drop=True, inplace=True)\n",
    "    encoded_df.reset_index(drop=True, inplace=True)\n",
    "    print(\"✅ Index reset and matched.\")"
   ]
  },
  {
   "cell_type": "code",
   "execution_count": 59,
   "id": "9da01be2",
   "metadata": {},
   "outputs": [
    {
     "name": "stdout",
     "output_type": "stream",
     "text": [
      "   city_cleaned_Abohar  city_cleaned_Adilabad  city_cleaned_Adityapur  \\\n",
      "0                  1.0                    0.0                     0.0   \n",
      "1                  1.0                    0.0                     0.0   \n",
      "2                  1.0                    0.0                     0.0   \n",
      "3                  1.0                    0.0                     0.0   \n",
      "4                  1.0                    0.0                     0.0   \n",
      "\n",
      "   city_cleaned_Adoni  city_cleaned_Agartala  city_cleaned_Agra  \\\n",
      "0                 0.0                    0.0                0.0   \n",
      "1                 0.0                    0.0                0.0   \n",
      "2                 0.0                    0.0                0.0   \n",
      "3                 0.0                    0.0                0.0   \n",
      "4                 0.0                    0.0                0.0   \n",
      "\n",
      "   city_cleaned_Ahmedabad  city_cleaned_Ahmednagar  city_cleaned_Ajmer  \\\n",
      "0                     0.0                      0.0                 0.0   \n",
      "1                     0.0                      0.0                 0.0   \n",
      "2                     0.0                      0.0                 0.0   \n",
      "3                     0.0                      0.0                 0.0   \n",
      "4                     0.0                      0.0                 0.0   \n",
      "\n",
      "   city_cleaned_Akola  ...  cuisine_Vietnamese,Asian  cuisine_Waffle,Bakery  \\\n",
      "0                 0.0  ...                       0.0                    0.0   \n",
      "1                 0.0  ...                       0.0                    0.0   \n",
      "2                 0.0  ...                       0.0                    0.0   \n",
      "3                 0.0  ...                       0.0                    0.0   \n",
      "4                 0.0  ...                       0.0                    0.0   \n",
      "\n",
      "   cuisine_Waffle,Beverages  cuisine_Waffle,Desserts  \\\n",
      "0                       0.0                      0.0   \n",
      "1                       0.0                      0.0   \n",
      "2                       0.0                      0.0   \n",
      "3                       0.0                      0.0   \n",
      "4                       0.0                      0.0   \n",
      "\n",
      "   cuisine_Waffle,Ice Cream  name_encoded  rating  rating_count  cost  Cluster  \n",
      "0                       0.0         10938     4.4            50   200        3  \n",
      "1                       0.0         25801     3.8           100   100        1  \n",
      "2                       0.0         25775     4.0           100   150        1  \n",
      "3                       0.0          2921     4.4            50   300        0  \n",
      "4                       0.0         15093     4.1           100   150        2  \n",
      "\n",
      "[5 rows x 1865 columns]\n"
     ]
    }
   ],
   "source": [
    "from sklearn.cluster import KMeans\n",
    "\n",
    "encoded_df = pd.read_csv(\"encoded_data.csv\")\n",
    "\n",
    "X = encoded_df.select_dtypes(include=['number'])\n",
    "\n",
    "Kmeans = KMeans(n_clusters=4, random_state=42)\n",
    "\n",
    "Kmeans.fit_predict(X)\n",
    "\n",
    "encoded_df[\"Cluster\"] = Kmeans.labels_\n",
    "\n",
    "print(encoded_df.head())"
   ]
  },
  {
   "cell_type": "code",
   "execution_count": 60,
   "id": "d426c34b",
   "metadata": {},
   "outputs": [
    {
     "name": "stdout",
     "output_type": "stream",
     "text": [
      "                name city_cleaned        cuisine  Cluster\n",
      "0  Janta Sweet House       Abohar  Sweets,Bakery        3\n",
      "1  theka coffee desi       Abohar      Beverages        1\n",
      "2   shere punjab veg       Abohar   North Indian        1\n",
      "3  Bharawan Da Dhaba       Abohar         Indian        0\n",
      "4    NIKKU VEG THALI       Abohar   North Indian        2\n"
     ]
    }
   ],
   "source": [
    "# Ensure indices match\n",
    "cleaned_df.reset_index(drop=True, inplace=True)\n",
    "encoded_df.reset_index(drop=True, inplace=True)\n",
    "\n",
    "# Add cluster info to cleaned_df\n",
    "cleaned_df['Cluster'] = encoded_df['Cluster']\n",
    "\n",
    "# Preview result\n",
    "print(cleaned_df[['name', 'city_cleaned', 'cuisine', 'Cluster']].head())"
   ]
  },
  {
   "cell_type": "code",
   "execution_count": 62,
   "id": "dae759f2",
   "metadata": {},
   "outputs": [],
   "source": [
    "with open('kmeans_model.pkl', 'wb') as f:\n",
    "    pickle.dump(Kmeans, f)"
   ]
  },
  {
   "cell_type": "code",
   "execution_count": 61,
   "id": "4307375f",
   "metadata": {},
   "outputs": [],
   "source": [
    "with open(\"encoders.pkl\", \"wb\") as f:\n",
    "    pickle.dump({\n",
    "        \"Encoder\": encoder, \n",
    "        \"Label\": label, \n",
    "        \"KMeans\": Kmeans\n",
    "    }, f)"
   ]
  }
 ],
 "metadata": {
  "kernelspec": {
   "display_name": "Python 3",
   "language": "python",
   "name": "python3"
  },
  "language_info": {
   "codemirror_mode": {
    "name": "ipython",
    "version": 3
   },
   "file_extension": ".py",
   "mimetype": "text/x-python",
   "name": "python",
   "nbconvert_exporter": "python",
   "pygments_lexer": "ipython3",
   "version": "3.13.2"
  }
 },
 "nbformat": 4,
 "nbformat_minor": 5
}
